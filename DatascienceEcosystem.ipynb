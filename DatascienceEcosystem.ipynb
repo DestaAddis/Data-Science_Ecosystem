{
 "cells": [
  {
   "cell_type": "markdown",
   "id": "ace8d0c3-662a-4e34-af6c-4d8dd448939e",
   "metadata": {},
   "source": [
    "# Data Science Tools and Ecosystem"
   ]
  },
  {
   "cell_type": "markdown",
   "id": "4d558bdb-2376-4505-9416-e3eabe5db9fe",
   "metadata": {},
   "source": [
    "## Author\n",
    "Desta A."
   ]
  },
  {
   "cell_type": "markdown",
   "id": "5565000b-cfb6-4455-862e-14ea88a7247c",
   "metadata": {},
   "source": [
    "In this notebook, Data Science Tools and Ecosystems are summarized"
   ]
  },
  {
   "cell_type": "markdown",
   "id": "c0818fb9-4b82-493d-8adf-5f8a67479c6d",
   "metadata": {},
   "source": [
    "**Objectives**\n",
    "* List popular languages for Data Science\n",
    "* List commonly used libraries in Data Science\n",
    "* List some development environment open-source tools for Data Science\n",
    "* Write a few arithmetic expressions in Python"
   ]
  },
  {
   "cell_type": "markdown",
   "id": "6fed02a7-1590-4633-a15d-707d71240a69",
   "metadata": {},
   "source": [
    "Some of the popular languages that Data Scientists use are:\n",
    "1. Python\n",
    "2. R \n",
    "3. SQL\n",
    "4. Scala\n",
    "5. Java\n",
    "6. C++\n",
    "7. Julian\n",
    "    \n"
   ]
  },
  {
   "cell_type": "markdown",
   "id": "c87c5f5d-682f-4aa8-b3e8-a9a704206046",
   "metadata": {},
   "source": [
    "Some of the commonly used libraries used by Data Scientists include:\n",
    "1. pandas\n",
    "2. Numpy\n",
    "3. matplotlib\n",
    "4. Scikit-learn"
   ]
  },
  {
   "cell_type": "markdown",
   "id": "0628bdd1-19f4-4b79-b782-3b10c86f71fe",
   "metadata": {},
   "source": [
    "|Data Science Tools|\n",
    "|------------------|\n",
    "|Jupyter notebook|\n",
    "|RStudio|\n",
    "|Apache Zeppelin|\n",
    "|Apache spark|\n"
   ]
  },
  {
   "cell_type": "markdown",
   "id": "9a660a6e-5dc5-4db1-9e04-1cc6b5217cf2",
   "metadata": {},
   "source": [
    "### Below are a few examples of evaluating arithmetic expressions in Python"
   ]
  },
  {
   "cell_type": "markdown",
   "id": "17f03934-3a56-4878-a4fb-d3a8010735e1",
   "metadata": {},
   "source": [
    "This a simple arithmetic expression to multiply and add integers"
   ]
  },
  {
   "cell_type": "code",
   "execution_count": 1,
   "id": "66363129-cb67-440e-a211-abcbc79dd668",
   "metadata": {},
   "outputs": [
    {
     "data": {
      "text/plain": [
       "17"
      ]
     },
     "execution_count": 1,
     "metadata": {},
     "output_type": "execute_result"
    }
   ],
   "source": [
    "(3*4)+5"
   ]
  },
  {
   "cell_type": "markdown",
   "id": "b9229498-9970-487b-bc19-3f03a3b6c8b0",
   "metadata": {},
   "source": [
    "This will convert 200 minute to hours by dividing by 60"
   ]
  },
  {
   "cell_type": "code",
   "execution_count": 2,
   "id": "44b9bf96-dbeb-4a88-91ac-a153566ea0d6",
   "metadata": {},
   "outputs": [
    {
     "data": {
      "text/plain": [
       "3.3333333333333335"
      ]
     },
     "execution_count": 2,
     "metadata": {},
     "output_type": "execute_result"
    }
   ],
   "source": [
    "200/60"
   ]
  },
  {
   "cell_type": "code",
   "execution_count": null,
   "id": "d9ee4aa5-4b79-4d65-a304-69c0aa2020ec",
   "metadata": {},
   "outputs": [],
   "source": []
  }
 ],
 "metadata": {
  "kernelspec": {
   "display_name": "Python 3 (ipykernel)",
   "language": "python",
   "name": "python3"
  },
  "language_info": {
   "codemirror_mode": {
    "name": "ipython",
    "version": 3
   },
   "file_extension": ".py",
   "mimetype": "text/x-python",
   "name": "python",
   "nbconvert_exporter": "python",
   "pygments_lexer": "ipython3",
   "version": "3.11.5"
  }
 },
 "nbformat": 4,
 "nbformat_minor": 5
}
